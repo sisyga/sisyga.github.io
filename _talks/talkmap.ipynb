{
 "cells": [
  {
   "cell_type": "markdown",
   "metadata": {},
   "source": [
    "# Leaflet cluster map of talk locations\n",
    "\n",
    "Run this from the _talks/ directory, which contains .md files of all your talks. This scrapes the location YAML field from each .md file, geolocates it with geopy/Nominatim, and uses the getorg library to output data, HTML, and Javascript for a standalone cluster map."
   ]
  },
  {
   "cell_type": "code",
   "execution_count": 1,
   "metadata": {
    "collapsed": false
   },
   "outputs": [
    {
     "name": "stdout",
     "output_type": "stream",
     "text": [
      "Requirement already satisfied: getorg in c:\\users\\simon\\anaconda3\\envs\\py312\\lib\\site-packages (0.3.1)\n",
      "Requirement already satisfied: geopy in c:\\users\\simon\\anaconda3\\envs\\py312\\lib\\site-packages (from getorg) (2.4.1)\n",
      "Requirement already satisfied: pygithub in c:\\users\\simon\\anaconda3\\envs\\py312\\lib\\site-packages (from getorg) (2.6.1)\n",
      "Requirement already satisfied: retrying in c:\\users\\simon\\anaconda3\\envs\\py312\\lib\\site-packages (from getorg) (1.4.0)\n",
      "Requirement already satisfied: geographiclib<3,>=1.52 in c:\\users\\simon\\anaconda3\\envs\\py312\\lib\\site-packages (from geopy->getorg) (2.0)\n",
      "Requirement already satisfied: pynacl>=1.4.0 in c:\\users\\simon\\anaconda3\\envs\\py312\\lib\\site-packages (from pygithub->getorg) (1.5.0)\n",
      "Requirement already satisfied: requests>=2.14.0 in c:\\users\\simon\\anaconda3\\envs\\py312\\lib\\site-packages (from pygithub->getorg) (2.32.3)\n",
      "Requirement already satisfied: pyjwt>=2.4.0 in c:\\users\\simon\\anaconda3\\envs\\py312\\lib\\site-packages (from pyjwt[crypto]>=2.4.0->pygithub->getorg) (2.10.1)\n",
      "Requirement already satisfied: typing-extensions>=4.0.0 in c:\\users\\simon\\anaconda3\\envs\\py312\\lib\\site-packages (from pygithub->getorg) (4.12.2)\n",
      "Requirement already satisfied: urllib3>=1.26.0 in c:\\users\\simon\\anaconda3\\envs\\py312\\lib\\site-packages (from pygithub->getorg) (2.3.0)\n",
      "Requirement already satisfied: Deprecated in c:\\users\\simon\\anaconda3\\envs\\py312\\lib\\site-packages (from pygithub->getorg) (1.2.18)\n",
      "Requirement already satisfied: cryptography>=3.4.0 in c:\\users\\simon\\anaconda3\\envs\\py312\\lib\\site-packages (from pyjwt[crypto]>=2.4.0->pygithub->getorg) (45.0.4)\n",
      "Requirement already satisfied: cffi>=1.14 in c:\\users\\simon\\anaconda3\\envs\\py312\\lib\\site-packages (from cryptography>=3.4.0->pyjwt[crypto]>=2.4.0->pygithub->getorg) (1.17.1)\n",
      "Requirement already satisfied: pycparser in c:\\users\\simon\\anaconda3\\envs\\py312\\lib\\site-packages (from cffi>=1.14->cryptography>=3.4.0->pyjwt[crypto]>=2.4.0->pygithub->getorg) (2.22)\n",
      "Requirement already satisfied: charset-normalizer<4,>=2 in c:\\users\\simon\\anaconda3\\envs\\py312\\lib\\site-packages (from requests>=2.14.0->pygithub->getorg) (3.4.1)\n",
      "Requirement already satisfied: idna<4,>=2.5 in c:\\users\\simon\\anaconda3\\envs\\py312\\lib\\site-packages (from requests>=2.14.0->pygithub->getorg) (3.10)\n",
      "Requirement already satisfied: certifi>=2017.4.17 in c:\\users\\simon\\anaconda3\\envs\\py312\\lib\\site-packages (from requests>=2.14.0->pygithub->getorg) (2025.6.15)\n",
      "Requirement already satisfied: wrapt<2,>=1.10 in c:\\users\\simon\\anaconda3\\envs\\py312\\lib\\site-packages (from Deprecated->pygithub->getorg) (1.17.2)\n",
      "IPywidgets and ipyleaflet support enabled.\n"
     ]
    }
   ],
   "source": [
    "!pip install getorg --upgrade\n",
    "import glob\n",
    "import getorg\n",
    "from geopy import Nominatim"
   ]
  },
  {
   "cell_type": "code",
   "execution_count": 2,
   "metadata": {
    "collapsed": false
   },
   "outputs": [],
   "source": [
    "g = glob.glob(\"*.md\")"
   ]
  },
  {
   "cell_type": "code",
   "execution_count": 3,
   "metadata": {
    "collapsed": true
   },
   "outputs": [],
   "source": [
    "geocoder = Nominatim(user_agent=\"talks\")\n",
    "location_dict = {}\n",
    "location = \"\"\n",
    "permalink = \"\"\n",
    "title = \"\""
   ]
  },
  {
   "cell_type": "code",
   "execution_count": 6,
   "metadata": {
    "collapsed": false
   },
   "outputs": [
    {
     "name": "stdout",
     "output_type": "stream",
     "text": [
      "Bielefeld, Germany \n",
      " Bielefeld, Nordrhein-Westfalen, Deutschland\n",
      "Lisbon, Portugal \n",
      " Lisboa, Portugal\n",
      "Dresden, Germany \n",
      " Dresden, Sachsen, Deutschland\n",
      "Virtual Event \n",
      " None\n",
      "Virtual Event \n",
      " None\n",
      "Heidelberg, Germany \n",
      " Heidelberg, Baden-Württemberg, Deutschland\n",
      "Aachen, Germany \n",
      " Aachen, Städteregion Aachen, Nordrhein-Westfalen, Deutschland\n",
      "Barcelona, Spain \n",
      " Barcelona, Barcelonès, Barcelona, Catalunya, España\n",
      "Dresden, Germany \n",
      " Dresden, Sachsen, Deutschland\n",
      "Plön, Germany \n",
      " Plön, Kreis Plön, Schleswig-Holstein, 24306, Deutschland\n",
      "Barcelona, Spain \n",
      " Barcelona, Barcelonès, Barcelona, Catalunya, España\n",
      "Boston, MA, USA \n",
      " Boston, Suffolk County, Massachusetts, United States\n",
      "Lisbon, Portugal \n",
      " Lisboa, Portugal\n",
      "Toledo, Spain \n",
      " Toledo, Castilla-La Mancha, España\n",
      "Tampa, FL \n",
      " Tampa, Hillsborough County, Florida, United States\n",
      "Leipzig, Germany \n",
      " Leipzig, Sachsen, Deutschland\n",
      "Ciudad Real, Spain \n",
      " Ciudad Real, Castilla-La Mancha, España\n",
      "Regensburg, Germany \n",
      " Regensburg, Bayern, Deutschland\n",
      "Plön, Germany \n",
      " Plön, Kreis Plön, Schleswig-Holstein, 24306, Deutschland\n",
      "Edmonton, Canada \n",
      " Edmonton, Alberta, Canada\n",
      "Edmonton, Canada \n",
      " Edmonton, Alberta, Canada\n"
     ]
    }
   ],
   "source": [
    "\n",
    "for file in g:\n",
    "    with open(file, 'r') as f:\n",
    "        lines = f.read()\n",
    "        if lines.find('location: \"') > 1:\n",
    "            loc_start = lines.find('location: \"') + 11\n",
    "            lines_trim = lines[loc_start:]\n",
    "            loc_end = lines_trim.find('\"')\n",
    "            location = lines_trim[:loc_end]\n",
    "                            \n",
    "           \n",
    "        location_dict[location] = geocoder.geocode(location)\n",
    "        print(location, \"\\n\", location_dict[location])\n"
   ]
  },
  {
   "cell_type": "markdown",
   "metadata": {},
   "source": []
  },
  {
   "cell_type": "code",
   "execution_count": 7,
   "metadata": {
    "collapsed": false
   },
   "outputs": [
    {
     "data": {
      "text/plain": [
       "'Written map to ../talkmap/'"
      ]
     },
     "execution_count": 7,
     "metadata": {},
     "output_type": "execute_result"
    }
   ],
   "source": [
    "m = getorg.orgmap.create_map_obj()\n",
    "getorg.orgmap.output_html_cluster_map(location_dict, folder_name=\"../talkmap\", hashed_usernames=False)"
   ]
  },
  {
   "cell_type": "code",
   "execution_count": null,
   "metadata": {
    "collapsed": true
   },
   "outputs": [],
   "source": []
  }
 ],
 "metadata": {
  "anaconda-cloud": {},
  "kernelspec": {
   "display_name": "py312",
   "language": "python",
   "name": "python3"
  },
  "language_info": {
   "codemirror_mode": {
    "name": "ipython",
    "version": 3
   },
   "file_extension": ".py",
   "mimetype": "text/x-python",
   "name": "python",
   "nbconvert_exporter": "python",
   "pygments_lexer": "ipython3",
   "version": "3.12.8"
  }
 },
 "nbformat": 4,
 "nbformat_minor": 0
}
